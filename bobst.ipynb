{
 "cells": [
  {
   "cell_type": "code",
   "execution_count": 1,
   "metadata": {},
   "outputs": [
    {
     "name": "stdout",
     "output_type": "stream",
     "text": [
      "Populating the interactive namespace from numpy and matplotlib\n"
     ]
    }
   ],
   "source": [
    "%reset -f\n",
    "import cv2\n",
    "import matplotlib.pyplot as plt\n",
    "import numpy as np\n",
    "import sys\n",
    "import glob\n",
    "\n",
    "%matplotlib inline\n",
    "%pylab inline\n",
    "pylab.rcParams['figure.figsize'] = (20, 12)"
   ]
  },
  {
   "cell_type": "code",
   "execution_count": 3,
   "metadata": {},
   "outputs": [],
   "source": [
    "def getSobel (channel):\n",
    "\n",
    "    sobelx = cv2.Sobel(channel, cv2.CV_16S, 1, 0, borderType=cv2.BORDER_REPLICATE)\n",
    "    sobely = cv2.Sobel(channel, cv2.CV_16S, 0, 1, borderType=cv2.BORDER_REPLICATE)\n",
    "    sobel = np.hypot(sobelx, sobely)\n",
    "\n",
    "    return sobel;\n",
    "\n",
    "def findSignificantContours (img, sobel_8u):\n",
    "    image, contours, heirarchy = cv2.findContours(sobel_8u, cv2.RETR_TREE, cv2.CHAIN_APPROX_SIMPLE)\n",
    "\n",
    "    # Find level 1 contours\n",
    "    level1 = []\n",
    "    for i, tupl in enumerate(heirarchy[0]):\n",
    "        # Each array is in format (Next, Prev, First child, Parent)\n",
    "        # Filter the ones without parent\n",
    "        if tupl[3] == -1:\n",
    "            tupl = np.insert(tupl, 0, [i])\n",
    "            level1.append(tupl)\n",
    "\n",
    "    # From among them, find the contours with large surface area.\n",
    "    significant = []\n",
    "    tooSmall = sobel_8u.size * 5 / 100 # If contour isn't covering 5% of total area of image then it probably is too small\n",
    "    for tupl in level1:\n",
    "        contour = contours[tupl[0]];\n",
    "        area = cv2.contourArea(contour)\n",
    "        if area > tooSmall:\n",
    "            cv2.drawContours(img, [contour], 0, (0,255,0),2, cv2.LINE_AA, maxLevel=1)\n",
    "            significant.append([contour, area])\n",
    "\n",
    "    significant.sort(key=lambda x: x[1])\n",
    "    return [x[0] for x in significant];\n",
    "\n",
    "def segment (input, output):\n",
    "    img = cv2.imread(input)\n",
    "\n",
    "    blurred = cv2.GaussianBlur(img, (5, 5), 0) # Remove noise\n",
    "\n",
    "    # Edge operator\n",
    "    sobel = np.max(np.array([getSobel(blurred[:,:, 0]), getSobel(blurred[:,:, 1]), getSobel(blurred[:,:, 2]) ]), axis=0 )\n",
    "\n",
    "    # Noise reduction trick, from http://sourceforge.net/p/octave/image/ci/default/tree/inst/edge.m#l182\n",
    "    mean = np.mean(sobel)\n",
    "\n",
    "    # Zero any values less than mean. This reduces a lot of noise.\n",
    "    sobel[sobel <= mean] = 0;\n",
    "    sobel[sobel > 255] = 255;\n",
    "\n",
    "    cv2.imwrite('output/edge.png', sobel);\n",
    "\n",
    "    sobel_8u = np.asarray(sobel, np.uint8)\n",
    "\n",
    "    # Find contours\n",
    "    significant = findSignificantContours(img, sobel_8u)\n",
    "\n",
    "    # Mask\n",
    "    mask = sobel.copy()\n",
    "    mask[mask > 0] = 0\n",
    "    cv2.fillPoly(mask, significant, 255)\n",
    "    # Invert mask\n",
    "    mask = np.logical_not(mask)\n",
    "\n",
    "    #Finally remove the background\n",
    "    img[mask] = 0\n",
    "    return img\n"
   ]
  },
  {
   "cell_type": "code",
   "execution_count": 4,
   "metadata": {},
   "outputs": [
    {
     "data": {
      "text/plain": [
       "['Images/ID0036.tif',\n",
       " 'Images/ID0037.tif',\n",
       " 'Images/ID0038.tif',\n",
       " 'Images/ID0039.tif',\n",
       " 'Images/ID0040.tif']"
      ]
     },
     "execution_count": 4,
     "metadata": {},
     "output_type": "execute_result"
    }
   ],
   "source": [
    "files = glob.glob(\"Images/*.tif\")[:5]\n",
    "files"
   ]
  },
  {
   "cell_type": "code",
   "execution_count": 6,
   "metadata": {},
   "outputs": [],
   "source": [
    "# if len(sys.argv) != 3:\n",
    "#     print(\"{} [input file] [output_file]\".format(sys.argv.count) )\n",
    "#     exit(1)\n",
    "\n",
    "# path = sys.argv[1]\n",
    "# out_path = sys.argv[2]\n",
    "# print(\"Input path:{}\".format(path))\n",
    "# print(\"Output path:{}\".format(out_path))\n",
    "for input in files:\n",
    "    result = segment(input, \"\")\n",
    "    cv2.imwrite('output/' + input, result);"
   ]
  },
  {
   "cell_type": "code",
   "execution_count": null,
   "metadata": {},
   "outputs": [],
   "source": []
  }
 ],
 "metadata": {
  "anaconda-cloud": {},
  "kernelspec": {
   "display_name": "Python 3",
   "language": "python",
   "name": "python3"
  },
  "language_info": {
   "codemirror_mode": {
    "name": "ipython",
    "version": 3
   },
   "file_extension": ".py",
   "mimetype": "text/x-python",
   "name": "python",
   "nbconvert_exporter": "python",
   "pygments_lexer": "ipython3",
   "version": "3.6.3"
  }
 },
 "nbformat": 4,
 "nbformat_minor": 2
}
