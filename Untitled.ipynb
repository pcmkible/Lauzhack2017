{
 "cells": [
  {
   "cell_type": "code",
   "execution_count": null,
   "metadata": {},
   "outputs": [],
   "source": [
    "%reset -f\n",
    "import cv2\n",
    "import matplotlib.pyplot as plt\n",
    "import numpy as np\n",
    "import sys\n",
    "import os\n",
    "import glob\n",
    "\n",
    "%matplotlib inline\n",
    "%pylab inline\n",
    "pylab.rcParams['figure.figsize'] = (20, 12)"
   ]
  },
  {
   "cell_type": "code",
   "execution_count": null,
   "metadata": {},
   "outputs": [],
   "source": [
    "images = glob.glob('Images/*.tif')\n",
    "img = cv2.imread('Images/ID0001.tif')\n",
    "plt.imshow(cv2.cvtColor(img, cv2.COLOR_BGR2RGB))"
   ]
  },
  {
   "cell_type": "code",
   "execution_count": null,
   "metadata": {},
   "outputs": [],
   "source": [
    "gray = cv2.cvtColor(img,cv2.COLOR_BGR2GRAY)\n",
    "ret, thresh = cv2.threshold(gray,0,255,cv2.THRESH_BINARY_INV+cv2.THRESH_OTSU)\n",
    "#plt.imshow(cv2.cvtColor(thresh, cv2.COLOR_BGR2RGB))\n",
    "plt.imshow(thresh, cmap = 'gray')"
   ]
  },
  {
   "cell_type": "code",
   "execution_count": null,
   "metadata": {},
   "outputs": [],
   "source": [
    "im2, contours, hierarchy = cv2.findContours(thresh,cv2.RETR_TREE,cv2.CHAIN_APPROX_SIMPLE)\n",
    "#plt.imshow(im2, cmap = 'gray')\n",
    "#c = max(contours, key = cv2.contourArea)\n",
    "largest_areas = sorted(contours, key=cv2.contourArea)\n",
    "imCopy = thresh.copy() * 0\n",
    "imCopy = cv2.drawContours(imCopy, largest_areas, -1, (255,255,255), 3)\n",
    "plt.imshow(imCopy, cmap = 'gray')"
   ]
  },
  {
   "cell_type": "code",
   "execution_count": null,
   "metadata": {
    "collapsed": true
   },
   "outputs": [],
   "source": [
    "def isolateBox(inputImage):\n",
    "    gray = cv2.cvtColor(inputImage,cv2.COLOR_BGR2GRAY)\n",
    "    ret, thresh = cv2.threshold(gray,0,255,cv2.THRESH_BINARY_INV+cv2.THRESH_OTSU)\n",
    "    im2, contours, hierarchy = cv2.findContours(thresh,cv2.RETR_TREE,cv2.CHAIN_APPROX_SIMPLE)\n",
    "    largest_areas = sorted(contours, key=cv2.contourArea)\n",
    "    imCopy = cv2.drawContours(thresh.copy() * 0, largest_areas, -1, (255,255,255), 3)\n",
    "    # Copy the thresholded image.\n",
    "    im_floodfill = imCopy.copy()\n",
    "\n",
    "    # Mask used to flood filling.\n",
    "    # Notice the size needs to be 2 pixels than the image.\n",
    "    h, w = thresh.shape[:2]\n",
    "    mask = np.zeros((h+2, w+2), np.uint8)\n",
    "\n",
    "    # Floodfill from point (0, 0)\n",
    "    cv2.floodFill(im_floodfill, mask, (10,10), 255);\n",
    "\n",
    "    # Invert floodfilled image\n",
    "    im_floodfill_inv = cv2.bitwise_not(im_floodfill)\n",
    "\n",
    "    # Combine the two images to get the foreground.\n",
    "    im_out = imCopy | im_floodfill_inv\n",
    "    result = cv2.bitwise_and(inputImage, inputImage, mask = im_out)\n",
    "    \n",
    "    return result"
   ]
  },
  {
   "cell_type": "code",
   "execution_count": null,
   "metadata": {},
   "outputs": [],
   "source": [
    "# Closing approach\n",
    "#kernel = np.ones((4,4),np.uint8)\n",
    "#closing = cv2.morphologyEx(thresh, cv2.MORPH_CLOSE, kernel)\n",
    "#plt.imshow(closing, cmap = 'gray')\n",
    "\n",
    "# Copy the thresholded image.\n",
    "im_floodfill = imCopy.copy()\n",
    " \n",
    "# Mask used to flood filling.\n",
    "# Notice the size needs to be 2 pixels than the image.\n",
    "h, w = thresh.shape[:2]\n",
    "mask = np.zeros((h+2, w+2), np.uint8)\n",
    " \n",
    "# Floodfill from point (0, 0)\n",
    "cv2.floodFill(im_floodfill, mask, (10,10), 255);\n",
    " \n",
    "# Invert floodfilled image\n",
    "im_floodfill_inv = cv2.bitwise_not(im_floodfill)\n",
    " \n",
    "# Combine the two images to get the foreground.\n",
    "im_out = imCopy | im_floodfill_inv\n",
    "\n",
    "plt.imshow(im_out, cmap = 'gray')"
   ]
  },
  {
   "cell_type": "code",
   "execution_count": null,
   "metadata": {},
   "outputs": [],
   "source": [
    "plt.imshow(cv2.cvtColor(isolateBox(img), cv2.COLOR_BGR2RGB))"
   ]
  },
  {
   "cell_type": "code",
   "execution_count": null,
   "metadata": {
    "collapsed": true
   },
   "outputs": [],
   "source": []
  }
 ],
 "metadata": {
  "kernelspec": {
   "display_name": "Python 3",
   "language": "python",
   "name": "python3"
  },
  "language_info": {
   "codemirror_mode": {
    "name": "ipython",
    "version": 3
   },
   "file_extension": ".py",
   "mimetype": "text/x-python",
   "name": "python",
   "nbconvert_exporter": "python",
   "pygments_lexer": "ipython3",
   "version": "3.6.1"
  }
 },
 "nbformat": 4,
 "nbformat_minor": 2
}
